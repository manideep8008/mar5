{
 "cells": [
  {
   "cell_type": "markdown",
   "id": "943e4ec6",
   "metadata": {},
   "source": [
    "Ans1:"
   ]
  },
  {
   "cell_type": "markdown",
   "id": "fc4a15f8",
   "metadata": {},
   "source": [
    "To import Bokeh in Python, write the following code and run it:\n",
    "\n",
    "1.Installing Bokeh in Python using pip\n",
    "\n",
    "2.Importing Bokeh in Python\n",
    "\n",
    "3.Import sample data for bokeh\n",
    "\n",
    "4.Check Bokeh version in Python"
   ]
  },
  {
   "cell_type": "markdown",
   "id": "ac455fa3",
   "metadata": {},
   "source": [
    "Ans2:"
   ]
  },
  {
   "cell_type": "markdown",
   "id": "bd253aa5",
   "metadata": {},
   "source": [
    "A glyph is a vectorized graphical shape or marker that is used to represent your data. A Few Categories of Glyphs: Marker: Shapes like circles, diamonds, squares and triangles. Effective for scatter and bubble charts. Line: Single, step and multi-line shapes.You can display images on Bokeh plots using the image() , image_rgba() , and image_url() glyph methods. You can use hovering tooltips with image glyphs to let the user see the values of each pixel."
   ]
  },
  {
   "cell_type": "code",
   "execution_count": 3,
   "id": "d16c8b8c",
   "metadata": {},
   "outputs": [
    {
     "name": "stdout",
     "output_type": "stream",
     "text": [
      "Requirement already satisfied: bokeh in c:\\users\\manideep\\anaconda3\\lib\\site-packages (2.4.3)\n",
      "Requirement already satisfied: numpy>=1.11.3 in c:\\users\\manideep\\anaconda3\\lib\\site-packages (from bokeh) (1.21.5)\n",
      "Requirement already satisfied: packaging>=16.8 in c:\\users\\manideep\\anaconda3\\lib\\site-packages (from bokeh) (21.3)\n",
      "Requirement already satisfied: Jinja2>=2.9 in c:\\users\\manideep\\anaconda3\\lib\\site-packages (from bokeh) (2.11.3)\n",
      "Requirement already satisfied: typing-extensions>=3.10.0 in c:\\users\\manideep\\anaconda3\\lib\\site-packages (from bokeh) (4.3.0)\n",
      "Requirement already satisfied: PyYAML>=3.10 in c:\\users\\manideep\\anaconda3\\lib\\site-packages (from bokeh) (6.0)\n",
      "Requirement already satisfied: pillow>=7.1.0 in c:\\users\\manideep\\anaconda3\\lib\\site-packages (from bokeh) (9.2.0)\n",
      "Requirement already satisfied: tornado>=5.1 in c:\\users\\manideep\\anaconda3\\lib\\site-packages (from bokeh) (6.1)\n",
      "Requirement already satisfied: MarkupSafe>=0.23 in c:\\users\\manideep\\anaconda3\\lib\\site-packages (from Jinja2>=2.9->bokeh) (2.0.1)\n",
      "Requirement already satisfied: pyparsing!=3.0.5,>=2.0.2 in c:\\users\\manideep\\anaconda3\\lib\\site-packages (from packaging>=16.8->bokeh) (3.0.9)\n",
      "Note: you may need to restart the kernel to use updated packages.\n"
     ]
    }
   ],
   "source": [
    "pip install bokeh"
   ]
  },
  {
   "cell_type": "code",
   "execution_count": 4,
   "id": "5b2bacef",
   "metadata": {},
   "outputs": [],
   "source": [
    "from bokeh.plotting import figure, output_file, show\n",
    "output_file(\"line.html\")\n",
    "\n",
    "p = figure(width=400, height=400)\n",
    "p.circle([1, 2, 3, 4, 5], [64, 7, 56, 46, 5], size=10, color=\"blue\", alpha=0.6)\n",
    "show(p)"
   ]
  },
  {
   "cell_type": "markdown",
   "id": "b98f1671",
   "metadata": {},
   "source": [
    "Ans3:"
   ]
  },
  {
   "cell_type": "markdown",
   "id": "ec42f2d5",
   "metadata": {},
   "source": [
    "Options for customizing the appearance of your plot include:\n",
    "\n",
    "1.setting labels for your axes 2.styling the numbers displayed with your axes 3.defining colors and other layout properties for the axes themselves\n",
    "\n",
    "we can customize the plot by adding title to the plot and labelling the xaxis and yaxis."
   ]
  },
  {
   "cell_type": "markdown",
   "id": "a1116568",
   "metadata": {},
   "source": [
    "Ans4:\n",
    "\n",
    "Bokeh server makes it easy to create interactive web applications that connect front-end UI events to running Python code. Bokeh creates high-level Python models, such as plots, ranges, axes, and glyphs, and then converts these objects to JSON to pass them to its client library, BokehJS.\n",
    "\n",
    "Ans5:\n",
    "\n",
    "You can save the returned HTML text to a file using standard Python file operations. You can also provide your own template for the HTML output and pass in custom, or additional, template variables. For more details, see the file_html() documentation.\n",
    "\n",
    "Bokeh can also supply JSON data that BokehJS can use to render a standalone Bokeh document in a specified . The json_item() function accepts a Bokeh model (for example, a plot) and an optional ID of the target.\n",
    "\n",
    "You can also have Bokeh return individual components of a standalone document to embed them one by one with the components() function. This function returns a that contains the data for your plot and provides a target to display the plot view. You can use these elements in HTML documents however you like.\n",
    "\n",
    "You can also embed standalone documents with the autoload_static() function. This function provides a tag that replaces itself with a Bokeh plot. This script also checks for BokehJS and loads it if necessary. This function lets you embed a plot with nothing but this tag."
   ]
  },
  {
   "cell_type": "code",
   "execution_count": null,
   "id": "2e9a24fa",
   "metadata": {},
   "outputs": [],
   "source": []
  }
 ],
 "metadata": {
  "kernelspec": {
   "display_name": "Python 3 (ipykernel)",
   "language": "python",
   "name": "python3"
  },
  "language_info": {
   "codemirror_mode": {
    "name": "ipython",
    "version": 3
   },
   "file_extension": ".py",
   "mimetype": "text/x-python",
   "name": "python",
   "nbconvert_exporter": "python",
   "pygments_lexer": "ipython3",
   "version": "3.9.13"
  }
 },
 "nbformat": 4,
 "nbformat_minor": 5
}
